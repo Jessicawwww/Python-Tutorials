{
 "cells": [
  {
   "cell_type": "code",
   "execution_count": 1,
   "metadata": {},
   "outputs": [],
   "source": [
    "# import relevant libraries\n",
    "import numpy as np\n",
    "import pandas as pd\n",
    "import matplotlib.pyplot as plt\n",
    "import seaborn as sns"
   ]
  },
  {
   "cell_type": "code",
   "execution_count": 2,
   "metadata": {},
   "outputs": [],
   "source": [
    "# create a variable that contains a numpy array representing the sales of a small business for each of 12 months\n",
    "data = np.random.randint(100, 301, size=(12,12))\n",
    "\n",
    "# create a variable that contains the list of months\n",
    "months = ['January', 'February', 'March', 'April', 'May', 'June', 'July',\n",
    "         'August', 'September', 'October', 'November', 'December']\n",
    "\n",
    "# create a variable that contains a list of the years from 2008 to 2019 inclusive\n",
    "years = [2008, 2009, 2010, 2011, 2012, 2013, 2014, 2015, 2016, 2017, 2018, 2019]\n",
    "\n",
    "# create a variable named sales that contains a dataframe \n",
    "# the dataframe consists of the sales of a small business across 12 months\n",
    "# there is an entry for each month of each year between 2008 and 2019 inclusive\n",
    "sales = pd.DataFrame(data, index=months, columns=years)"
   ]
  },
  {
   "cell_type": "code",
   "execution_count": 3,
   "metadata": {},
   "outputs": [
    {
     "data": {
      "text/html": [
       "<div>\n",
       "<style scoped>\n",
       "    .dataframe tbody tr th:only-of-type {\n",
       "        vertical-align: middle;\n",
       "    }\n",
       "\n",
       "    .dataframe tbody tr th {\n",
       "        vertical-align: top;\n",
       "    }\n",
       "\n",
       "    .dataframe thead th {\n",
       "        text-align: right;\n",
       "    }\n",
       "</style>\n",
       "<table border=\"1\" class=\"dataframe\">\n",
       "  <thead>\n",
       "    <tr style=\"text-align: right;\">\n",
       "      <th></th>\n",
       "      <th>2008</th>\n",
       "      <th>2009</th>\n",
       "      <th>2010</th>\n",
       "      <th>2011</th>\n",
       "      <th>2012</th>\n",
       "      <th>2013</th>\n",
       "      <th>2014</th>\n",
       "      <th>2015</th>\n",
       "      <th>2016</th>\n",
       "      <th>2017</th>\n",
       "      <th>2018</th>\n",
       "      <th>2019</th>\n",
       "    </tr>\n",
       "  </thead>\n",
       "  <tbody>\n",
       "    <tr>\n",
       "      <th>January</th>\n",
       "      <td>179</td>\n",
       "      <td>120</td>\n",
       "      <td>267</td>\n",
       "      <td>102</td>\n",
       "      <td>274</td>\n",
       "      <td>231</td>\n",
       "      <td>229</td>\n",
       "      <td>238</td>\n",
       "      <td>133</td>\n",
       "      <td>153</td>\n",
       "      <td>133</td>\n",
       "      <td>211</td>\n",
       "    </tr>\n",
       "    <tr>\n",
       "      <th>February</th>\n",
       "      <td>199</td>\n",
       "      <td>175</td>\n",
       "      <td>233</td>\n",
       "      <td>240</td>\n",
       "      <td>257</td>\n",
       "      <td>227</td>\n",
       "      <td>278</td>\n",
       "      <td>299</td>\n",
       "      <td>196</td>\n",
       "      <td>291</td>\n",
       "      <td>228</td>\n",
       "      <td>261</td>\n",
       "    </tr>\n",
       "    <tr>\n",
       "      <th>March</th>\n",
       "      <td>100</td>\n",
       "      <td>148</td>\n",
       "      <td>125</td>\n",
       "      <td>250</td>\n",
       "      <td>220</td>\n",
       "      <td>111</td>\n",
       "      <td>250</td>\n",
       "      <td>241</td>\n",
       "      <td>123</td>\n",
       "      <td>155</td>\n",
       "      <td>240</td>\n",
       "      <td>126</td>\n",
       "    </tr>\n",
       "    <tr>\n",
       "      <th>April</th>\n",
       "      <td>217</td>\n",
       "      <td>206</td>\n",
       "      <td>268</td>\n",
       "      <td>249</td>\n",
       "      <td>209</td>\n",
       "      <td>273</td>\n",
       "      <td>267</td>\n",
       "      <td>132</td>\n",
       "      <td>156</td>\n",
       "      <td>294</td>\n",
       "      <td>123</td>\n",
       "      <td>284</td>\n",
       "    </tr>\n",
       "    <tr>\n",
       "      <th>May</th>\n",
       "      <td>115</td>\n",
       "      <td>112</td>\n",
       "      <td>179</td>\n",
       "      <td>107</td>\n",
       "      <td>256</td>\n",
       "      <td>261</td>\n",
       "      <td>226</td>\n",
       "      <td>133</td>\n",
       "      <td>300</td>\n",
       "      <td>198</td>\n",
       "      <td>129</td>\n",
       "      <td>253</td>\n",
       "    </tr>\n",
       "  </tbody>\n",
       "</table>\n",
       "</div>"
      ],
      "text/plain": [
       "          2008  2009  2010  2011  2012  2013  2014  2015  2016  2017  2018  \\\n",
       "January    179   120   267   102   274   231   229   238   133   153   133   \n",
       "February   199   175   233   240   257   227   278   299   196   291   228   \n",
       "March      100   148   125   250   220   111   250   241   123   155   240   \n",
       "April      217   206   268   249   209   273   267   132   156   294   123   \n",
       "May        115   112   179   107   256   261   226   133   300   198   129   \n",
       "\n",
       "          2019  \n",
       "January    211  \n",
       "February   261  \n",
       "March      126  \n",
       "April      284  \n",
       "May        253  "
      ]
     },
     "execution_count": 3,
     "metadata": {},
     "output_type": "execute_result"
    }
   ],
   "source": [
    "# display first few rows of sales\n",
    "sales.head()"
   ]
  },
  {
   "cell_type": "code",
   "execution_count": 4,
   "metadata": {},
   "outputs": [
    {
     "data": {
      "image/png": "[encoded data removed]",
      "text/plain": [
       "<Figure size 432x288 with 2 Axes>"
      ]
     },
     "metadata": {
      "needs_background": "light"
     },
     "output_type": "display_data"
    }
   ],
   "source": [
    "# create a heatmap of sales\n",
    "sns.heatmap(sales);"
   ]
  },
  {
   "cell_type": "code",
   "execution_count": null,
   "metadata": {},
   "outputs": [],
   "source": []
  }
 ],
 "metadata": {
  "kernelspec": {
   "display_name": "Python 3 (ipykernel)",
   "language": "python",
   "name": "python3"
  },
  "language_info": {
   "codemirror_mode": {
    "name": "ipython",
    "version": 3
   },
   "file_extension": ".py",
   "mimetype": "text/x-python",
   "name": "python",
   "nbconvert_exporter": "python",
   "pygments_lexer": "ipython3",
   "version": "3.9.7"
  }
 },
 "nbformat": 4,
 "nbformat_minor": 4
}
